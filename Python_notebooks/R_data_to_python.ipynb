{
 "cells": [
  {
   "cell_type": "markdown",
   "metadata": {},
   "source": [
    "### VOG presence absence"
   ]
  },
  {
   "cell_type": "code",
   "execution_count": null,
   "metadata": {},
   "outputs": [],
   "source": [
    "import rpy2.robjects as robjects\n",
    "import pandas as pd\n",
    "import pickle\n",
    "# Load the RDS file\n",
    "rds_file_path = \"/Users/amaros/Documents/mgCSTs2/RDS_files/vog.list.mgss.pa.RDS\"\n",
    "\n",
    "# Load the RDS file into an R object\n",
    "r_data = robjects.r['readRDS'](rds_file_path)\n",
    "\n",
    "# Convert the R object to a Python object\n",
    "py_data = robjects.conversion.rpy2py(r_data)\n",
    "\n",
    "# Convert the Python object to dictionnary : keys are species, data are presence absence table\n",
    "d = { key : py_data.rx2(key) for key in py_data.names}\n",
    "\n",
    "vog_mgss_pa = {}\n",
    "for key in d.keys() :\n",
    "    colnames = list(d[key].colnames)\n",
    "    rownames = list(d[key].rownames)\n",
    "    df = pd.DataFrame(d[key]).transpose().rename(columns={k:colnames[k] for k in range(len(colnames))})\n",
    "    df.insert(0, 'VOG', rownames)\n",
    "    vog_mgss_pa[key] = df\n",
    "\n",
    "# Save dictionary using pickle\n",
    "with open('vog_mgss_pa.pkl', 'wb') as f:\n",
    "    pickle.dump(vog_mgss_pa, f)\n"
   ]
  },
  {
   "cell_type": "markdown",
   "metadata": {},
   "source": [
    "### VOG cluster"
   ]
  },
  {
   "cell_type": "code",
   "execution_count": null,
   "metadata": {},
   "outputs": [],
   "source": [
    "import rpy2.robjects as robjects\n",
    "import pandas as pd\n",
    "import pickle\n",
    "# Load the RDS file\n",
    "rds_file_path = \"/Users/amaros/Documents/mgCSTs2/RDS_files/vog.clusters.RDS\"\n",
    "\n",
    "# Load the RDS file into an R object\n",
    "r_data = robjects.r['readRDS'](rds_file_path)\n",
    "\n",
    "# Convert the R object to a Python object\n",
    "py_data = robjects.conversion.rpy2py(r_data)\n",
    "\n",
    "# Convert the Python object to dictionnary : keys are species, data are presence absence table\n",
    "d = { key : py_data.rx2(key) for key in py_data.names}\n",
    "\n",
    "vog_clusters = {}\n",
    "for key in d.keys() :\n",
    "    colnames = list(d[key].colnames)\n",
    "    rownames = list(d[key].rownames)\n",
    "    df = pd.DataFrame(d[key]).transpose().rename(columns={k:colnames[k] for k in range(len(colnames))})\n",
    "    # df.insert(0, 'VOG', rownames)\n",
    "    vog_clusters[key] = df\n",
    "\n",
    "# Save dictionary using pickle\n",
    "with open('vog_clusters.pkl', 'wb') as f:\n",
    "    pickle.dump(vog_clusters, f)\n"
   ]
  },
  {
   "cell_type": "markdown",
   "metadata": {},
   "source": [
    "### Samples cluster"
   ]
  },
  {
   "cell_type": "code",
   "execution_count": null,
   "metadata": {},
   "outputs": [],
   "source": []
  }
 ],
 "metadata": {
  "kernelspec": {
   "display_name": "base",
   "language": "python",
   "name": "python3"
  },
  "language_info": {
   "codemirror_mode": {
    "name": "ipython",
    "version": 3
   },
   "file_extension": ".py",
   "mimetype": "text/x-python",
   "name": "python",
   "nbconvert_exporter": "python",
   "pygments_lexer": "ipython3",
   "version": "3.11.4"
  }
 },
 "nbformat": 4,
 "nbformat_minor": 2
}
