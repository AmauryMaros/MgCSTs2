{
 "cells": [
  {
   "cell_type": "markdown",
   "metadata": {},
   "source": [
    "### VOG presence absence"
   ]
  },
  {
   "cell_type": "code",
   "execution_count": null,
   "metadata": {},
   "outputs": [],
   "source": [
    "import rpy2.robjects as robjects\n",
    "import pandas as pd\n",
    "import pickle\n",
    "# Load the RDS file\n",
    "rds_file_path = \"/Users/amaros/Documents/mgCSTs2/RDS_files/vog.list.mgss.pa.RDS\"\n",
    "\n",
    "# Load the RDS file into an R object\n",
    "r_data = robjects.r['readRDS'](rds_file_path)\n",
    "\n",
    "# Convert the R object to a Python object\n",
    "py_data = robjects.conversion.rpy2py(r_data)\n",
    "\n",
    "# Convert the Python object to dictionnary : keys are species, data are presence absence table\n",
    "d = { key : py_data.rx2(key) for key in py_data.names}\n",
    "\n",
    "vog_mgss_pa = {}\n",
    "for key in d.keys() :\n",
    "    colnames = list(d[key].colnames)\n",
    "    rownames = list(d[key].rownames)\n",
    "    df = pd.DataFrame(d[key]).transpose().rename(columns={k:colnames[k] for k in range(len(colnames))})\n",
    "    df.insert(0, 'VOG', rownames)\n",
    "    vog_mgss_pa[key] = df\n",
    "\n",
    "# Save dictionary using pickle\n",
    "with open('vog_mgss_pa.pkl', 'wb') as f:\n",
    "    pickle.dump(vog_mgss_pa, f)\n"
   ]
  },
  {
   "cell_type": "markdown",
   "metadata": {},
   "source": [
    "### VOG cluster"
   ]
  },
  {
   "cell_type": "code",
   "execution_count": null,
   "metadata": {},
   "outputs": [],
   "source": [
    "import rpy2.robjects as robjects\n",
    "import pandas as pd\n",
    "import pickle\n",
    "# Load the RDS file\n",
    "rds_file_path = \"/Users/amaros/Documents/mgCSTs2/RDS_files/vog.clusters.RDS\"\n",
    "\n",
    "# Load the RDS file into an R object\n",
    "r_data = robjects.r['readRDS'](rds_file_path)\n",
    "\n",
    "# Convert the R object to a Python object\n",
    "py_data = robjects.conversion.rpy2py(r_data)\n",
    "\n",
    "# Convert the Python object to dictionnary : keys are species, data are presence absence table\n",
    "d = { key : py_data.rx2(key) for key in py_data.names}\n",
    "\n",
    "vog_clusters = {}\n",
    "for key in d.keys() :\n",
    "    colnames = list(d[key].colnames)\n",
    "    rownames = list(d[key].rownames)\n",
    "    df = pd.DataFrame(d[key]).transpose().rename(columns={k:colnames[k] for k in range(len(colnames))})\n",
    "    # df.insert(0, 'VOG', rownames)\n",
    "    vog_clusters[key] = df\n",
    "\n",
    "# Save dictionary using pickle\n",
    "with open('vog_clusters.pkl', 'wb') as f:\n",
    "    pickle.dump(vog_clusters, f)\n"
   ]
  },
  {
   "cell_type": "markdown",
   "metadata": {},
   "source": [
    "### Samples cluster"
   ]
  },
  {
   "cell_type": "code",
   "execution_count": 7,
   "metadata": {},
   "outputs": [],
   "source": [
    "import rpy2.robjects as robjects\n",
    "import pandas as pd\n",
    "import pickle\n",
    "# Load the RDS file\n",
    "rds_file_path = \"/Users/amaros/Documents/mgCSTs2/RDS_files/samples.clusters.vog.RDS\"\n",
    "\n",
    "# Load the RDS file into an R object\n",
    "r_data = robjects.r['readRDS'](rds_file_path)\n",
    "\n",
    "# Convert the R object to a Python object\n",
    "py_data = robjects.conversion.rpy2py(r_data)\n",
    "\n",
    "# Convert the Python object to dictionnary : keys are species, data are presence absence table\n",
    "d = { key : py_data.rx2(key) for key in py_data.names}\n",
    "\n",
    "samples_clusters_vog = {}\n",
    "for key in d.keys() :\n",
    "    colnames = list(d[key].colnames)\n",
    "    rownames = list(d[key].rownames)\n",
    "    df = pd.DataFrame(d[key]).transpose().rename(columns={k:colnames[k] for k in range(len(colnames))})\n",
    "    # df.insert(0, 'VOG', rownames)\n",
    "    samples_clusters_vog[key] = df\n",
    "\n",
    "# Save dictionary using pickle\n",
    "with open('samples_clusters_vog.pkl', 'wb') as f:\n",
    "    pickle.dump(samples_clusters_vog, f)\n"
   ]
  },
  {
   "cell_type": "code",
   "execution_count": 15,
   "metadata": {},
   "outputs": [
    {
     "data": {
      "text/plain": [
       "['VOG0271971',\n",
       " 'VOG0271983',\n",
       " 'VOG0271985',\n",
       " 'VOG0271988',\n",
       " 'VOG0272036',\n",
       " 'VOG0272039',\n",
       " 'VOG0272046',\n",
       " 'VOG0272051',\n",
       " 'VOG0272052',\n",
       " 'VOG0272057',\n",
       " 'VOG0272058',\n",
       " 'VOG0272060',\n",
       " 'VOG0272064',\n",
       " 'VOG0272068',\n",
       " 'VOG0272072',\n",
       " 'VOG0272075',\n",
       " 'VOG0272076',\n",
       " 'VOG0272077',\n",
       " 'VOG0272086',\n",
       " 'VOG0272087',\n",
       " 'VOG0272088',\n",
       " 'VOG0272089',\n",
       " 'VOG0272090',\n",
       " 'VOG0272091',\n",
       " 'VOG0272094',\n",
       " 'VOG0272095',\n",
       " 'VOG0272099',\n",
       " 'VOG0272101',\n",
       " 'VOG0272102',\n",
       " 'VOG0272104',\n",
       " 'VOG0272106',\n",
       " 'VOG0272108',\n",
       " 'VOG0272110',\n",
       " 'VOG0272268',\n",
       " 'VOG0272468',\n",
       " 'VOG0272469',\n",
       " 'VOG0272471',\n",
       " 'VOG0272474',\n",
       " 'VOG0272475',\n",
       " 'VOG0272476',\n",
       " 'VOG0272477']"
      ]
     },
     "execution_count": 15,
     "metadata": {},
     "output_type": "execute_result"
    }
   ],
   "source": [
    "import pickle \n",
    "import pandas as pd\n",
    "\n",
    "with open(\"../Data/vog_clusters.pkl\", \"rb\") as f :\n",
    "    vog_clusters = pickle.load(f)\n",
    "\n",
    "vc = vog_clusters['Berryella_sp001552935']\n",
    "vc['vog_cluster'] = vc['vog_cluster'].astype(int)\n",
    "vog_to_consider = [10]\n",
    "a = vc[vc['vog_cluster'].isin(vog_to_consider)]['vog'].to_list()\n",
    "a"
   ]
  },
  {
   "cell_type": "code",
   "execution_count": 17,
   "metadata": {},
   "outputs": [
    {
     "data": {
      "text/html": [
       "<div>\n",
       "<style scoped>\n",
       "    .dataframe tbody tr th:only-of-type {\n",
       "        vertical-align: middle;\n",
       "    }\n",
       "\n",
       "    .dataframe tbody tr th {\n",
       "        vertical-align: top;\n",
       "    }\n",
       "\n",
       "    .dataframe thead th {\n",
       "        text-align: right;\n",
       "    }\n",
       "</style>\n",
       "<table border=\"1\" class=\"dataframe\">\n",
       "  <thead>\n",
       "    <tr style=\"text-align: right;\">\n",
       "      <th></th>\n",
       "      <th>Gene</th>\n",
       "      <th>GeneProduct</th>\n",
       "      <th>Taxonomy</th>\n",
       "      <th>VOG</th>\n",
       "    </tr>\n",
       "  </thead>\n",
       "  <tbody>\n",
       "  </tbody>\n",
       "</table>\n",
       "</div>"
      ],
      "text/plain": [
       "Empty DataFrame\n",
       "Columns: [Gene, GeneProduct, Taxonomy, VOG]\n",
       "Index: []"
      ]
     },
     "execution_count": 17,
     "metadata": {},
     "output_type": "execute_result"
    }
   ],
   "source": [
    "VOG_GeneProduct = pd.read_csv(\"../Data/VOG_gene_product.csv\")\n",
    "VOG_GeneProduct[VOG_GeneProduct['VOG'] == \"VOG0271971\"]"
   ]
  }
 ],
 "metadata": {
  "kernelspec": {
   "display_name": "base",
   "language": "python",
   "name": "python3"
  },
  "language_info": {
   "codemirror_mode": {
    "name": "ipython",
    "version": 3
   },
   "file_extension": ".py",
   "mimetype": "text/x-python",
   "name": "python",
   "nbconvert_exporter": "python",
   "pygments_lexer": "ipython3",
   "version": "3.11.4"
  }
 },
 "nbformat": 4,
 "nbformat_minor": 2
}
